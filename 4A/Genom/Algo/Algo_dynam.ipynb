{
 "cells": [
  {
   "cell_type": "markdown",
   "metadata": {},
   "source": [
    "# Alignement de séquences"
   ]
  },
  {
   "cell_type": "markdown",
   "metadata": {},
   "source": [
    "Exemple de plus longue sous-séquence commune.\n",
    "Soit T_1 = GCCGCCGAAAGACCA et T_2 = CGCTGCCTAATAATG. Trouver une plus longue sous-séquence\n",
    "commune à T_1 et T_2.\n",
    "Formule de récurrence pour la plus longue sous-séquence commune.\n",
    "Soit T_1 et T_2 deux mots. Soit L(i1 , i2) la longueur de la plus longue sous-séquence commune à T_1[i1]\n",
    "et T_2(i2). Donner une formule de récurrence qui donne L(i1 , i2) en fonction de T_1[i1], T_2[i2],\n",
    "L(i1+1, i2), L(i1, i2+1) et L(i1+1, i2+1)."
   ]
  },
  {
   "cell_type": "code",
   "execution_count": 8,
   "metadata": {},
   "outputs": [],
   "source": [
    "t_1 = 'GCCGCCGAAAGACCA'\n",
    "t_2 = 'CGCTGCCTAATAATG'"
   ]
  },
  {
   "cell_type": "code",
   "execution_count": 12,
   "metadata": {},
   "outputs": [],
   "source": [
    "def find_longest_seq(T_1, T_2, i_1, i_2):\n",
    "    if i_1 == len(T_1) or i_2 == len(T_2):\n",
    "        return 0\n",
    "    elif T_1[i_1] != T_2[i_2]:\n",
    "        L1 = find_longest_seq(T_1, T_2,i_1 + 1, i_2 + 1)\n",
    "        L2 = find_longest_seq(T_1, T_2,i_1 + 1, i_2)\n",
    "        L3 = find_longest_seq(T_1, T_2,i_1, i_2 + 1)\n",
    "        return max(L1, L2, L3)\n",
    "    else:\n",
    "        L1 = find_longest_seq(T_1, T_2,i_1 + 1, i_2 + 1)\n",
    "        L2 = find_longest_seq(T_1, T_2,i_1 + 1, i_2)\n",
    "        L3 = find_longest_seq(T_1, T_2,i_1, i_2 + 1)\n",
    "        return max(L1 + 1 , L2, L3)\n",
    "        "
   ]
  },
  {
   "cell_type": "code",
   "execution_count": 13,
   "metadata": {},
   "outputs": [
    {
     "data": {
      "text/plain": [
       "3"
      ]
     },
     "execution_count": 13,
     "metadata": {},
     "output_type": "execute_result"
    }
   ],
   "source": [
    "find_longest_seq('LAMA', 'PANAMA', 0, 0)"
   ]
  },
  {
   "cell_type": "code",
   "execution_count": null,
   "metadata": {},
   "outputs": [],
   "source": []
  }
 ],
 "metadata": {
  "kernelspec": {
   "display_name": "Python 3",
   "language": "python",
   "name": "python3"
  },
  "language_info": {
   "codemirror_mode": {
    "name": "ipython",
    "version": 3
   },
   "file_extension": ".py",
   "mimetype": "text/x-python",
   "name": "python",
   "nbconvert_exporter": "python",
   "pygments_lexer": "ipython3",
   "version": "3.6.5"
  }
 },
 "nbformat": 4,
 "nbformat_minor": 2
}
