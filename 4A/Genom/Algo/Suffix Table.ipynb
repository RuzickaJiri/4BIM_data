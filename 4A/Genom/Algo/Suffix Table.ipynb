{
 "cells": [
  {
   "cell_type": "markdown",
   "metadata": {},
   "source": [
    "# Suffix Table"
   ]
  },
  {
   "cell_type": "markdown",
   "metadata": {},
   "source": [
    "## Construction de la liste des suffixes"
   ]
  },
  {
   "cell_type": "code",
   "execution_count": 55,
   "metadata": {},
   "outputs": [],
   "source": [
    "import functools as fnt"
   ]
  },
  {
   "cell_type": "code",
   "execution_count": 43,
   "metadata": {},
   "outputs": [
    {
     "name": "stdout",
     "output_type": "stream",
     "text": [
      "['A', 'TA', 'CTA', 'ACTA', 'TACTA', 'GTACTA', 'CGTACTA', 'ACGTACTA', 'TACGTACTA', 'GTACGTACTA', 'CGTACGTACTA', 'ACGTACGTACTA']\n"
     ]
    }
   ],
   "source": [
    "t = 'CACGTACGTACTA'\n",
    "suff = []\n",
    "for i in range(len(t)-1):\n",
    "    suff.append(t[-(i+1):])\n",
    "print(suff)"
   ]
  },
  {
   "cell_type": "code",
   "execution_count": 42,
   "metadata": {},
   "outputs": [
    {
     "name": "stdout",
     "output_type": "stream",
     "text": [
      "A\n",
      "ACGTACGTACTA\n",
      "ACGTACTA\n",
      "ACTA\n",
      "CACGTACGTACTA\n",
      "CGTACGTACTA\n",
      "CGTACTA\n",
      "CTA\n",
      "GTACGTACTA\n",
      "GTACTA\n",
      "TA\n",
      "TACGTACTA\n",
      "TACTA\n"
     ]
    }
   ],
   "source": [
    "indices = [12,1,5,9,0,2,6,10,3,7,11,4,8]\n",
    "# 12=A, 1=ACGTACGTACTA, 5=ACGTACTA, 11=TA etc.\n",
    "for i in range(len(indices)):\n",
    "    print(t[indices[i]:])"
   ]
  },
  {
   "cell_type": "code",
   "execution_count": 65,
   "metadata": {},
   "outputs": [
    {
     "name": "stdout",
     "output_type": "stream",
     "text": [
      "[12, 1, 5, 9, 0, 2, 6, 10, 3, 7, 11, 4, 8]\n"
     ]
    }
   ],
   "source": [
    "# we don't want to stock a list of suffixes cause it takes n square in the memory\n",
    "def suffix_array(word):\n",
    "    ind_array =[]\n",
    "    def compare(a, b):\n",
    "        if word[a:]<word[b:]:\n",
    "            return -1\n",
    "        elif word[a:]==word[b:]:\n",
    "            return 0\n",
    "        elif word[a:]>word[b:]:\n",
    "            return 1\n",
    "    \n",
    "    for i in range(len(word)):\n",
    "        ind_array.append(i)\n",
    "    sorted_ind_array = []\n",
    "    \n",
    "    sorted_ind_array = sorted(ind_array, key = fnt.cmp_to_key(compare))\n",
    "    return sorted_ind_array\n",
    "\n",
    "print(suffix_array(t))"
   ]
  },
  {
   "cell_type": "code",
   "execution_count": null,
   "metadata": {},
   "outputs": [],
   "source": [
    "def find(text, suffix_array, word):\n",
    "    pos = -1\n",
    "    \n",
    "    \n",
    "    return pos\n",
    "    \n"
   ]
  },
  {
   "cell_type": "code",
   "execution_count": null,
   "metadata": {},
   "outputs": [],
   "source": []
  }
 ],
 "metadata": {
  "kernelspec": {
   "display_name": "Python 3",
   "language": "python",
   "name": "python3"
  },
  "language_info": {
   "codemirror_mode": {
    "name": "ipython",
    "version": 3
   },
   "file_extension": ".py",
   "mimetype": "text/x-python",
   "name": "python",
   "nbconvert_exporter": "python",
   "pygments_lexer": "ipython3",
   "version": "3.6.5"
  }
 },
 "nbformat": 4,
 "nbformat_minor": 2
}
