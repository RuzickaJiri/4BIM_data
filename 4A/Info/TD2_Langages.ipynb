{
 "cells": [
  {
   "cell_type": "code",
   "execution_count": 1,
   "metadata": {},
   "outputs": [],
   "source": [
    "import parglare\n",
    "import pprint\n",
    "import logic_actions\n",
    "import logic_evaluation_trou"
   ]
  },
  {
   "cell_type": "code",
   "execution_count": 2,
   "metadata": {},
   "outputs": [
    {
     "name": "stdout",
     "output_type": "stream",
     "text": [
      "{'l_expr': {'log_type': 'log_var', 'name': 'a', 'type': 'logical'},\n",
      " 'log_type': 'log_disj',\n",
      " 'r_expr': {'log_type': 'log_var', 'name': 'b', 'type': 'logical'},\n",
      " 'type': 'logical'}\n"
     ]
    }
   ],
   "source": [
    "grammar = parglare.Grammar.from_file('logic_grammar.pg')\n",
    "parser = parglare.Parser(grammar, actions=logic_actions.action.all)\n",
    "prog = parser.parse('''a and (true or b)''')\n",
    "prog2 = parser.parse('''a''')\n",
    "prog3 = parser.parse('''a or b''')\n",
    "pprint.pprint(prog3) # solution de la question précédente"
   ]
  },
  {
   "cell_type": "code",
   "execution_count": 4,
   "metadata": {},
   "outputs": [
    {
     "name": "stdout",
     "output_type": "stream",
     "text": [
      "False\n"
     ]
    }
   ],
   "source": [
    "p = logic_evaluation_trou.log_eval({'a': False, 'b': False}, prog3)\n",
    "print(p)"
   ]
  },
  {
   "cell_type": "code",
   "execution_count": 9,
   "metadata": {},
   "outputs": [
    {
     "name": "stdout",
     "output_type": "stream",
     "text": [
      "True\n"
     ]
    }
   ],
   "source": [
    "x  = False\n",
    "phi = True and (not x or True)\n",
    "print(phi)"
   ]
  },
  {
   "cell_type": "code",
   "execution_count": null,
   "metadata": {},
   "outputs": [],
   "source": []
  }
 ],
 "metadata": {
  "kernelspec": {
   "display_name": "Python 3",
   "language": "python",
   "name": "python3"
  },
  "language_info": {
   "codemirror_mode": {
    "name": "ipython",
    "version": 3
   },
   "file_extension": ".py",
   "mimetype": "text/x-python",
   "name": "python",
   "nbconvert_exporter": "python",
   "pygments_lexer": "ipython3",
   "version": "3.6.9"
  }
 },
 "nbformat": 4,
 "nbformat_minor": 2
}
