{
 "cells": [
  {
   "cell_type": "markdown",
   "metadata": {},
   "source": [
    "# Algorithme Génétique"
   ]
  },
  {
   "cell_type": "markdown",
   "metadata": {},
   "source": [
    "## Introduction"
   ]
  },
  {
   "cell_type": "markdown",
   "metadata": {},
   "source": [
    "L'informatique théorique peut trouver son ispiration dans des nombreux domaines ; une place particulière possède des algorithmes déjà programmés par la nature comme c'est le cas pour les algorithmes génétiques. Or l'évolution optimise la survie des individus les mieux adaptés, on peut utiliser les principes dans un problème d'optimisation. \n",
    "\n",
    "Supposons que le génome d'un individu est composé de $n$ génes dont chacun peut avoir une valeur booléenne $\\{−1,1\\}$. On construit une population initiale et on l'évalue avec notre fonction de coût. On trie nos génomes d'après cette évaluation et on applique une mutation ou un croisement aléatoires sur les \"pires\" génomes de la population. On répète avec la nouvelle population. "
   ]
  },
  {
   "cell_type": "markdown",
   "metadata": {},
   "source": [
    "Rendu : code, réponses détaillées, illustrer les propos, docstring pas obligatoire, conclusions sur la convergence, etc."
   ]
  },
  {
   "cell_type": "markdown",
   "metadata": {},
   "source": [
    "## Marche aléatoire"
   ]
  },
  {
   "cell_type": "markdown",
   "metadata": {},
   "source": [
    "Nous allons appliquer l’algorithme génétique à un problème assez simple. On modélise une marche aléatoire en dimension 1 sur T pas de temps, dans la direction d :\n",
    "$x(t + 1) = x(t) + d$\n",
    "avec d tiré uniformément sur le doublet $\\{−1, 1\\}$, et $t = \\{0, . . . , T − 1\\}$.\n",
    "\n",
    "On cherche à optimiser la trajectoire de la marche de sorte à ce qu’elle reste dans un intervalle déterminé $[−r_0 ; r_0 ]$. Le paramètre $r_0$ sera à faire varier. Le coût d’une trajectoire sera égal au nombre de pas situés hors de\n",
    "l’intervalle $[−r_0 ; r_0 ]$.\n",
    "\n",
    "*Écrire une fonction qui génère aléatoirement un génome. Elle prend $T$, la longueur de la marche, en paramètre d’entrée et sort un vecteur de longueur $T$ prenant ses valeurs dans $\\{−1, 1\\}$ de façon aléatoire.*"
   ]
  },
  {
   "cell_type": "code",
   "execution_count": 57,
   "metadata": {},
   "outputs": [],
   "source": [
    "from mpl_toolkits.mplot3d import Axes3D\n",
    "from matplotlib import cm\n",
    "from matplotlib.ticker import LinearLocator, FormatStrFormatter\n",
    "import matplotlib.pyplot as plt\n",
    "import numpy as np\n",
    "import random\n",
    "import statistics as stats"
   ]
  },
  {
   "cell_type": "code",
   "execution_count": 2,
   "metadata": {},
   "outputs": [
    {
     "data": {
      "text/plain": [
       "[1, -1, -1, 1, 1, 1, 1, -1, -1, 1]"
      ]
     },
     "execution_count": 2,
     "metadata": {},
     "output_type": "execute_result"
    }
   ],
   "source": [
    "def form_genome(T, d):\n",
    "    res  = [0]*T\n",
    "    for i in range(len(res)):\n",
    "        rand = np.random.randn()\n",
    "        if rand < 0:\n",
    "            res[i] += d[0]\n",
    "        if rand >= 0:\n",
    "            res[i] += d[1]\n",
    "    return res\n",
    "\n",
    "\n",
    "form_genome(10, [-1,1])"
   ]
  },
  {
   "cell_type": "markdown",
   "metadata": {},
   "source": [
    "*Écrire la fonction qui calcule le coût d’un génome. Elle prend en paramètre d’entrée : un génome et $r_0$ , la borne de l’intervalle. Elle retourne un scalaire.*"
   ]
  },
  {
   "cell_type": "code",
   "execution_count": 71,
   "metadata": {},
   "outputs": [
    {
     "name": "stdout",
     "output_type": "stream",
     "text": [
      "[1, -1, -1, 1, -1]\n"
     ]
    },
    {
     "data": {
      "text/plain": [
       "0"
      ]
     },
     "execution_count": 71,
     "metadata": {},
     "output_type": "execute_result"
    }
   ],
   "source": [
    "def cost(genome, r0):\n",
    "    price = 0\n",
    "    for i in range(1,len(genome)+1):\n",
    "        if sum(genome[:i]) < 0:\n",
    "            if sum(genome[:i]) <= -r0:\n",
    "                price += 1 # -sum(genome[:i]) - r0\n",
    "        else :\n",
    "            if sum(genome[:i]) >= r0:\n",
    "                price += 1 # sum(genome[:i]) - r0\n",
    "    return price\n",
    "\n",
    "gen1 = form_genome(5, [-1,1])\n",
    "print(gen1)\n",
    "cost(gen1, 2)"
   ]
  },
  {
   "cell_type": "markdown",
   "metadata": {},
   "source": [
    "## Codage de l’algorithme génétique"
   ]
  },
  {
   "cell_type": "markdown",
   "metadata": {},
   "source": [
    "*Initialisation : écrire une fonction qui créée aléatoirement une population initiale de N génomes de taille $T$.*"
   ]
  },
  {
   "cell_type": "code",
   "execution_count": 4,
   "metadata": {},
   "outputs": [
    {
     "data": {
      "text/plain": [
       "[[1, 1, 1, -1, -1, 1, -1, -1, 1, -1],\n",
       " [-1, -1, -1, 1, -1, -1, 1, -1, -1, -1],\n",
       " [-1, -1, 1, -1, 1, 1, 1, -1, 1, 1],\n",
       " [-1, -1, 1, -1, 1, 1, -1, 1, 1, -1],\n",
       " [1, -1, -1, 1, -1, -1, -1, 1, 1, 1],\n",
       " [1, 1, -1, 1, 1, -1, 1, -1, 1, -1],\n",
       " [1, -1, 1, -1, -1, 1, 1, -1, 1, -1],\n",
       " [1, -1, 1, 1, -1, -1, -1, -1, 1, -1],\n",
       " [1, -1, -1, -1, 1, -1, 1, -1, 1, -1],\n",
       " [1, -1, 1, -1, -1, 1, 1, 1, 1, -1]]"
      ]
     },
     "execution_count": 4,
     "metadata": {},
     "output_type": "execute_result"
    }
   ],
   "source": [
    "def get_population(N, T):\n",
    "    population = []\n",
    "    for i in range(N):\n",
    "        population.append(form_genome(T, [-1,1]))\n",
    "    return population\n",
    "\n",
    "get_population(10, 10)"
   ]
  },
  {
   "cell_type": "markdown",
   "metadata": {},
   "source": [
    "*Écrire une fonction qui trie les génomes d’une population en fonction de leur coût. Indice : utiliser la fonction numpy.argsort().*"
   ]
  },
  {
   "cell_type": "code",
   "execution_count": 5,
   "metadata": {},
   "outputs": [
    {
     "name": "stdout",
     "output_type": "stream",
     "text": [
      "[[1, 1, 1, 1, 1], [1, -1, -1, -1, 1], [-1, -1, -1, 1, -1], [1, 1, 1, -1, 1], [1, -1, -1, -1, 1]]\n"
     ]
    },
    {
     "data": {
      "text/plain": [
       "[[1, -1, -1, -1, 1],\n",
       " [1, -1, -1, -1, 1],\n",
       " [-1, -1, -1, 1, -1],\n",
       " [1, 1, 1, -1, 1],\n",
       " [1, 1, 1, 1, 1]]"
      ]
     },
     "execution_count": 5,
     "metadata": {},
     "output_type": "execute_result"
    }
   ],
   "source": [
    "def sort_pop(pop, r0):\n",
    "    cost_array = []\n",
    "    for i in pop:\n",
    "        cost_array.append(cost(i, r0))\n",
    "    # print(cost_array)\n",
    "    indexs = np.argsort(cost_array)\n",
    "    # print(indexs)\n",
    "    sorted_pop = []\n",
    "    for i in range(len(indexs)):\n",
    "        sorted_pop.append(pop[indexs[i]])\n",
    "    return sorted_pop\n",
    "\n",
    "\n",
    "my_pop = get_population(5, 5)\n",
    "print(my_pop)\n",
    "sort_pop(my_pop, 2)"
   ]
  },
  {
   "cell_type": "markdown",
   "metadata": {},
   "source": [
    "*Écrire une fonction qui sélectionne les $N_s$ génomes ayant les valeurs de coût les plus importantes (sélection par rang). On prendra par exemple $N_s = N/2$. La valeur de sortie correspondra à la population à faire muter et/ou à croiser.*"
   ]
  },
  {
   "cell_type": "code",
   "execution_count": 6,
   "metadata": {},
   "outputs": [
    {
     "data": {
      "text/plain": [
       "[[-1, -1, -1, 1, -1], [1, 1, 1, -1, 1], [1, 1, 1, 1, 1]]"
      ]
     },
     "execution_count": 6,
     "metadata": {},
     "output_type": "execute_result"
    }
   ],
   "source": [
    "def selection(pop, r0):\n",
    "    return sort_pop(pop, r0)[(len(pop)//2):]\n",
    "\n",
    "selection(my_pop, 2)"
   ]
  },
  {
   "cell_type": "markdown",
   "metadata": {},
   "source": [
    "*Nous allons maintenant procéder à la mutation des génomes sélectionnés. La mutation est définie par un taux $T_m$ qui correspond à la probabilité qu’un gène $a$ de muter. Il s’agit donc ici de parcourir les gènes de chaque génome et de les faire muter avec une probabilité $T_m$. Écrire la fonction qui permet d’effectuer cette mutation sur la population sélectionnée.*"
   ]
  },
  {
   "cell_type": "code",
   "execution_count": 7,
   "metadata": {},
   "outputs": [
    {
     "name": "stdout",
     "output_type": "stream",
     "text": [
      "[[-1, -1, -1, 1, -1], [1, 1, 1, -1, 1], [1, 1, 1, 1, 1]]\n"
     ]
    },
    {
     "data": {
      "text/plain": [
       "[[-1, -1, 1, 1, -1], [1, 1, -1, 1, 1], [1, 1, 1, 1, -1]]"
      ]
     },
     "execution_count": 7,
     "metadata": {},
     "output_type": "execute_result"
    }
   ],
   "source": [
    "def mut_genome(genome, Tm):\n",
    "    new_genome = []\n",
    "    for i in genome:\n",
    "        rand = np.random.randn()\n",
    "        if abs(rand) < Tm:\n",
    "            new_genome.append(-i)\n",
    "        else : \n",
    "            new_genome.append(i)\n",
    "    return new_genome\n",
    "            \n",
    "def mut_pop(pop, Tm):\n",
    "    new_pop = []\n",
    "    for i in pop:\n",
    "        new_pop.append(mut_genome(i, Tm))\n",
    "    return new_pop\n",
    "\n",
    "print(selection(my_pop, 2))\n",
    "mut_pop(selection(my_pop, 2), 0.5)\n",
    "            \n",
    "            "
   ]
  },
  {
   "cell_type": "markdown",
   "metadata": {},
   "source": [
    "*Nous allons maintenant effectuer le croisement de la population mutée. Le croisement se définit par un taux $T_c$ qui indique la probabilité avec laquelle un croisement entre génomes peut intervenir.\n",
    "Coder la fonction qui effectue le croisement entre individus de la population sélectionnée avec la probabilité $T_c$. La position du croisement dans le génome, ainsi que l’individu avec lequel le croisement sera effectué seront tirés aléatoirement.*"
   ]
  },
  {
   "cell_type": "code",
   "execution_count": 63,
   "metadata": {},
   "outputs": [
    {
     "name": "stdout",
     "output_type": "stream",
     "text": [
      "[[-1, -1, -1, 1, -1], [1, 1, 1, -1, 1], [1, 1, 1, 1, 1]]\n",
      "[[-1, -1, -1, -1, 1], [1, 1, 1, 1, -1], [1, 1, 1, 1, 1]]\n"
     ]
    }
   ],
   "source": [
    "def cross_over(pop, Tc):\n",
    "\n",
    "    for i in range(len(pop)):\n",
    "        g = pop[i]\n",
    "        if random.random() > Tc:\n",
    "            pos = int(random.random()*len(g))\n",
    "            sec_g = []\n",
    "            r = 0\n",
    "            while sec_g == [] or sec_g == g:\n",
    "                r = int(random.random()*len(pop))\n",
    "                sec_g = pop[r]\n",
    "            #print('Crossing-over à la position ' + str(pos) +\n",
    "             #    ' de ' + str(g) + ' et ' + str(sec_g))\n",
    "            pop[i] = g[:pos] + sec_g[pos:]\n",
    "            pop[r] = sec_g[:pos] + g[pos:]\n",
    "            \n",
    "\n",
    "my_sel = selection(my_pop, 2)\n",
    "print(my_sel)\n",
    "cross_over(my_sel, 0.5)\n",
    "print(my_sel)"
   ]
  },
  {
   "cell_type": "markdown",
   "metadata": {},
   "source": [
    "*Mettre à jour la population courante avec la population mutée et incrémenter le compteur de génération.*"
   ]
  },
  {
   "cell_type": "code",
   "execution_count": 64,
   "metadata": {},
   "outputs": [
    {
     "name": "stdout",
     "output_type": "stream",
     "text": [
      "Generation 0\n",
      "Generation 1\n",
      "Generation 2\n",
      "Generation 3\n",
      "Generation 4\n",
      "Generation 5\n",
      "Generation 6\n",
      "Generation 7\n",
      "Generation 8\n",
      "Generation 9\n"
     ]
    },
    {
     "data": {
      "image/png": "[encoded data removed]",
      "text/plain": [
       "<matplotlib.figure.Figure at 0x7f911ae69668>"
      ]
     },
     "metadata": {},
     "output_type": "display_data"
    },
    {
     "data": {
      "text/plain": [
       "[[-1, 1, -1, 1, -1],\n",
       " [1, 1, 1, 1, -1],\n",
       " [1, -1, 1, 1, -1],\n",
       " [-1, 1, 1, -1, -1],\n",
       " [1, 1, -1, 1, -1]]"
      ]
     },
     "execution_count": 64,
     "metadata": {},
     "output_type": "execute_result"
    }
   ],
   "source": [
    "def evolve(N, T, r0, Tm, Tc, it):\n",
    "    pop = get_population(N, T)\n",
    "    costs_gener = []\n",
    "    for i in range(it):\n",
    "        print('Generation ' + str(i))\n",
    "        #print(pop)\n",
    "        sel = selection(pop, r0)\n",
    "        #print(len(sel))\n",
    "        changed_sel = mut_pop(sel, Tm)\n",
    "        cross_over(changed_sel, Tc)\n",
    "        pop = changed_sel + sort_pop(pop, r0)[:(len(pop)//2)]\n",
    "        costs_gener.append(costs_pop(pop, r0)[0])\n",
    "    #print(range(it), costs_gener)\n",
    "    plt.plot(range(it), costs_gener)\n",
    "    plt.xlabel('')\n",
    "    plt.ylabel('')\n",
    "    plt.title('')\n",
    "    plt.show()\n",
    "        \n",
    "    return pop\n",
    "        \n",
    "evolve(5, 5, 2, 0.5, 0.5, 10)\n",
    "    "
   ]
  },
  {
   "cell_type": "markdown",
   "metadata": {},
   "source": [
    "*Calculer le coût moyen de la nouvelle population, ainsi que le coût minimum obtenu.*"
   ]
  },
  {
   "cell_type": "code",
   "execution_count": 65,
   "metadata": {},
   "outputs": [
    {
     "data": {
      "text/plain": [
       "(2, 0, 6)"
      ]
     },
     "execution_count": 65,
     "metadata": {},
     "output_type": "execute_result"
    }
   ],
   "source": [
    "def costs_pop(pop, r0):\n",
    "    costs = []\n",
    "    for i in range(len(pop)):\n",
    "        costs.append(cost(pop[i], r0))\n",
    "    return (stats.mean(costs), min(costs), max(costs))\n",
    "\n",
    "costs_pop(my_pop, 2)"
   ]
  },
  {
   "cell_type": "markdown",
   "metadata": {},
   "source": [
    "*Quel(s) critère(s) d’arrêt utiliseriez-vous ? Faire tourner l’algorithme avec $T = 500$,  $r_0 = 4$, $N = 100$,\n",
    "$T_m = 0.05$ et $T_c = 0.1$. Tracer l’évolution du coût moyen au fur et à mesure des générations.*"
   ]
  },
  {
   "cell_type": "code",
   "execution_count": 74,
   "metadata": {
    "scrolled": true
   },
   "outputs": [
    {
     "name": "stdout",
     "output_type": "stream",
     "text": [
      "Generation 0\n",
      "Generation 1\n",
      "Generation 2\n",
      "Generation 3\n",
      "Generation 4\n",
      "Generation 5\n",
      "Generation 6\n",
      "Generation 7\n",
      "Generation 8\n",
      "Generation 9\n",
      "Generation 10\n",
      "Generation 11\n",
      "Generation 12\n",
      "Generation 13\n",
      "Generation 14\n",
      "Generation 15\n",
      "Generation 16\n",
      "Generation 17\n",
      "Generation 18\n",
      "Generation 19\n",
      "Generation 20\n",
      "Generation 21\n",
      "Generation 22\n",
      "Generation 23\n",
      "Generation 24\n",
      "Generation 25\n",
      "Generation 26\n",
      "Generation 27\n",
      "Generation 28\n",
      "Generation 29\n",
      "Generation 30\n",
      "Generation 31\n",
      "Generation 32\n",
      "Generation 33\n",
      "Generation 34\n",
      "Generation 35\n",
      "Generation 36\n",
      "Generation 37\n",
      "Generation 38\n",
      "Generation 39\n",
      "Generation 40\n",
      "Generation 41\n",
      "Generation 42\n",
      "Generation 43\n",
      "Generation 44\n",
      "Generation 45\n",
      "Generation 46\n",
      "Generation 47\n",
      "Generation 48\n",
      "Generation 49\n",
      "Generation 50\n",
      "Generation 51\n",
      "Generation 52\n",
      "Generation 53\n",
      "Generation 54\n",
      "Generation 55\n",
      "Generation 56\n",
      "Generation 57\n",
      "Generation 58\n",
      "Generation 59\n",
      "Generation 60\n",
      "Generation 61\n",
      "Generation 62\n",
      "Generation 63\n",
      "Generation 64\n",
      "Generation 65\n",
      "Generation 66\n",
      "Generation 67\n",
      "Generation 68\n",
      "Generation 69\n",
      "Generation 70\n",
      "Generation 71\n",
      "Generation 72\n",
      "Generation 73\n",
      "Generation 74\n",
      "Generation 75\n",
      "Generation 76\n",
      "Generation 77\n",
      "Generation 78\n",
      "Generation 79\n",
      "Generation 80\n",
      "Generation 81\n",
      "Generation 82\n",
      "Generation 83\n",
      "Generation 84\n",
      "Generation 85\n",
      "Generation 86\n",
      "Generation 87\n",
      "Generation 88\n",
      "Generation 89\n",
      "Generation 90\n",
      "Generation 91\n",
      "Generation 92\n",
      "Generation 93\n",
      "Generation 94\n",
      "Generation 95\n",
      "Generation 96\n",
      "Generation 97\n",
      "Generation 98\n",
      "Generation 99\n"
     ]
    },
    {
     "data": {
      "image/png": "[encoded data removed]",
      "text/plain": [
       "<matplotlib.figure.Figure at 0x7f911947d2e8>"
      ]
     },
     "metadata": {},
     "output_type": "display_data"
    },
    {
     "data": {
      "text/plain": [
       "1"
      ]
     },
     "execution_count": 74,
     "metadata": {},
     "output_type": "execute_result"
    }
   ],
   "source": [
    "evolve(100, 500, 4, 0.05, 0.1, 100)\n",
    "1"
   ]
  },
  {
   "cell_type": "markdown",
   "metadata": {},
   "source": [
    "*Faire varier les paramètres suivants ($N$, $r_0$ , $T_m$ et $T_c$) pour étudier leur influence.*"
   ]
  },
  {
   "cell_type": "code",
   "execution_count": null,
   "metadata": {},
   "outputs": [],
   "source": []
  },
  {
   "cell_type": "markdown",
   "metadata": {},
   "source": [
    "*Décrire le comportement de l’algorithme (évolution des coûts moyen et minimum) et interpréter la convergence en fonction des paramètres utilisés.*"
   ]
  },
  {
   "cell_type": "code",
   "execution_count": null,
   "metadata": {},
   "outputs": [],
   "source": []
  },
  {
   "cell_type": "markdown",
   "metadata": {},
   "source": [
    "*Quelles différences remarquez-vous par rapport aux méthodes différentielles étudiées jusqu’à maintenant\n",
    "(descente de gradient, Newton) ?*"
   ]
  },
  {
   "cell_type": "code",
   "execution_count": null,
   "metadata": {},
   "outputs": [],
   "source": []
  }
 ],
 "metadata": {
  "kernelspec": {
   "display_name": "Python 3",
   "language": "python",
   "name": "python3"
  },
  "language_info": {
   "codemirror_mode": {
    "name": "ipython",
    "version": 3
   },
   "file_extension": ".py",
   "mimetype": "text/x-python",
   "name": "python",
   "nbconvert_exporter": "python",
   "pygments_lexer": "ipython3",
   "version": "3.6.5"
  }
 },
 "nbformat": 4,
 "nbformat_minor": 2
}
