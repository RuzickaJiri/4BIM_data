{
 "cells": [
  {
   "cell_type": "markdown",
   "metadata": {},
   "source": [
    "# Descente de gradient et méthode de Newton\n"
   ]
  },
  {
   "cell_type": "markdown",
   "metadata": {},
   "source": [
    "## Cas 1 : Fonction convexe de $R^2$ dans $R$ "
   ]
  },
  {
   "cell_type": "code",
   "execution_count": 1,
   "metadata": {},
   "outputs": [
    {
     "data": {
      "text/plain": [
       "<matplotlib.figure.Figure at 0x7fecfc1aaa20>"
      ]
     },
     "metadata": {},
     "output_type": "display_data"
    }
   ],
   "source": [
    "# Imports from the matplotlib library\n",
    "from mpl_toolkits.mplot3d import Axes3D\n",
    "from matplotlib import cm\n",
    "from matplotlib.ticker import LinearLocator, FormatStrFormatter\n",
    "import matplotlib.pyplot as plt\n",
    "import numpy as np\n",
    "# --------------------------------------\n",
    "\n",
    "# Definition of what to plot\n",
    "\n",
    "fig = plt.figure() # opens a figure environment\n",
    "ax = fig.gca(projection='3d') # to perform a 3D plot\n",
    "X = np.arange(-2, 2, 0.25) # x range\n",
    "Y = np.arange(-2, 2, 0.25) # y range\n",
    "X, Y = np.meshgrid(X, Y) # creates a rectangular grid on which to plot the function values (Z)\n",
    "Z= 2*X**3 + 2*Y**3 + X**2*Y + X*Y**2 - 9*X - 9*Y # defines the function values\n",
    "surf = ax.plot_surface(X, Y, Z, rstride=1, cstride=1, linewidth=0, antialiased=False)  # plot definition and options\n",
    "\n",
    "# Runs the plot command\n",
    "plt.show()\n"
   ]
  },
  {
   "cell_type": "markdown",
   "metadata": {},
   "source": [
    "1. Tracer dans matplotlib la fonction et repérer le minimum global et (éventuellement) les minima locaux. Commenter\n"
   ]
  },
  {
   "cell_type": "code",
   "execution_count": 2,
   "metadata": {},
   "outputs": [],
   "source": [
    "ax = fig.gca(projection='3d') # to perform a 3D plot\n",
    "x = np.arange(-2, 2, 0.25)  # x range\n",
    "y = np.arange(-2, 2, 0.25)  # y range\n",
    "x, y = np.meshgrid(x, y)\n",
    "z = (x-y)**4 +2*x**2 + y**2 - x + 2\n",
    "surf = ax.plot_surface(x, y, z, rstride=1, cstride=1, linewidth=0, antialiased=False)  # plot definition and options\n",
    "plt.show()"
   ]
  },
  {
   "cell_type": "markdown",
   "metadata": {},
   "source": [
    "la première question est qualitative, on voit que le minimum global se situe au point (0,0)\n",
    "la fonction est positive et donc elle atteint son minimum quand elle s'annule"
   ]
  },
  {
   "cell_type": "markdown",
   "metadata": {},
   "source": [
    " 2. Calculer le gradient g de la fonction f. Quelle est son expression?\n",
    "\n",
    "$\\vec{\\nabla} f(x,y)=\\begin{pmatrix}4(x-y)^3+4x-1 \\\\-4(x-y)^3+2y+2 \\end{pmatrix} $"
   ]
  },
  {
   "cell_type": "markdown",
   "metadata": {},
   "source": [
    "3. Implémenter la méthode de descente de gradient. Testez les diﬀérents critères d’arrêt vus en classe et commentez (commencez par le plus facile)."
   ]
  },
  {
   "cell_type": "code",
   "execution_count": 3,
   "metadata": {},
   "outputs": [],
   "source": [
    "def gradient(x,y) :\n",
    "    x1 = 4*(x-y)**3+4*x-1\n",
    "    x2 = -4*(x-y)**3+2*y+2\n",
    "    return np.array([x1,x2])"
   ]
  },
  {
   "cell_type": "code",
   "execution_count": 4,
   "metadata": {},
   "outputs": [
    {
     "data": {
      "text/plain": [
       "array([ 35, -32])"
      ]
     },
     "execution_count": 4,
     "metadata": {},
     "output_type": "execute_result"
    }
   ],
   "source": [
    "gradient(1,-1)"
   ]
  },
  {
   "cell_type": "code",
   "execution_count": 5,
   "metadata": {},
   "outputs": [],
   "source": [
    "def descent(init,delta,niter,eps) :\n",
    "    vect = init\n",
    "    n = 0\n",
    "    while (gradient(vect[0],vect[1])[0]**2 + (gradient(vect[0],vect[1])[1]**2)**0.5) > eps and n < niter :\n",
    "        # delta = 1/(gradient(vect[0],vect[1])[0]**2 + (gradient(vect[0],vect[1])[1]**2)**0.5)\n",
    "        vect -= delta*gradient(vect[0],vect[1])\n",
    "        init = vect\n",
    "        n += 1\n",
    "        #print(vect)\n",
    "    return vect, n\n",
    "        \n",
    "    "
   ]
  },
  {
   "cell_type": "code",
   "execution_count": 6,
   "metadata": {},
   "outputs": [
    {
     "data": {
      "text/plain": [
       "(array([ 0.03617814, -0.56360011]), 18)"
      ]
     },
     "execution_count": 6,
     "metadata": {},
     "output_type": "execute_result"
    }
   ],
   "source": [
    "descent([1,1],0.1,100, 0.01)"
   ]
  },
  {
   "cell_type": "code",
   "execution_count": 16,
   "metadata": {},
   "outputs": [
    {
     "data": {
      "text/plain": [
       "(array([ 0.15870509, -0.62363743]), 1000)"
      ]
     },
     "execution_count": 16,
     "metadata": {},
     "output_type": "execute_result"
    }
   ],
   "source": [
    "descent([1,1],0.2,1000, 0.1)"
   ]
  },
  {
   "cell_type": "markdown",
   "metadata": {},
   "source": [
    "Hessian matrix\n",
    "\n",
    "$ H_{f(x,y)}= \\begin{pmatrix}12(x-y)^2+4 & -12(x-y)^2 \\\\ -12(x-y)^2 & 12(x-y)^2 +2 \\end{pmatrix}$"
   ]
  },
  {
   "cell_type": "code",
   "execution_count": 21,
   "metadata": {},
   "outputs": [
    {
     "name": "stdout",
     "output_type": "stream",
     "text": [
      "[[4 0]\n",
      " [0 2]]\n"
     ]
    }
   ],
   "source": [
    "def Hessian(X): #X est un vecteur\n",
    "    return 12*((X[0]-X[1])**2)*np.array([[1,-1],[-1,1]])+np.array([[4,0],[0,2]])\n",
    "\n",
    "print(Hessian([1,1]))"
   ]
  },
  {
   "cell_type": "code",
   "execution_count": 56,
   "metadata": {},
   "outputs": [
    {
     "name": "stdout",
     "output_type": "stream",
     "text": [
      "(array([ 0.03349877, -0.56699754]), 5)\n"
     ]
    }
   ],
   "source": [
    "def Newton(V, niter, eps):\n",
    "    n=0\n",
    "    while (gradient(V[0],V[1])[0]**2 + gradient(V[0],V[1])[1]**2)**0.5 > eps and n < niter:\n",
    "        V= V - gradient(V[0],V[1]).dot(np.linalg.inv(Hessian(V)))\n",
    "        n= n + 1\n",
    "    return (V,n)\n",
    "\n",
    "print(Newton([1,1],1000,0.001))"
   ]
  },
  {
   "cell_type": "code",
   "execution_count": 73,
   "metadata": {},
   "outputs": [
    {
     "data": {
      "image/png": "[encoded data removed]",
      "text/plain": [
       "<matplotlib.figure.Figure at 0x7fecd03079b0>"
      ]
     },
     "metadata": {},
     "output_type": "display_data"
    },
    {
     "data": {
      "image/png": "[encoded data removed]",
      "text/plain": [
       "<matplotlib.figure.Figure at 0x7fecce610978>"
      ]
     },
     "metadata": {},
     "output_type": "display_data"
    }
   ],
   "source": [
    "def trajectory(init, niter, delta, eps):\n",
    "    x = range(niter)\n",
    "    pointsLx = []\n",
    "    pointsQx = []\n",
    "    pointsLy = []\n",
    "    pointsQy = []\n",
    "    for i in range(niter):\n",
    "        pointsLx.append(descent(init, delta, i, eps)[0][0])\n",
    "        pointsQx.append(Newton(init, i, eps)[0][0])\n",
    "        pointsLy.append(descent(init, delta, i, eps)[0][1])\n",
    "        pointsQy.append(Newton(init, i, eps)[0][1])\n",
    "    \n",
    "    plt.plot(x, pointsLx, label='linear')\n",
    "    plt.plot(x, pointsQx, label='quadratic')\n",
    "    plt.xlabel('x label')\n",
    "    plt.ylabel('y label')\n",
    "    plt.title(\"Plot\")\n",
    "    plt.legend()\n",
    "    plt.show()\n",
    "    \n",
    "    plt.plot(x, pointsLy, label='linear')\n",
    "    plt.plot(x, pointsQy, label='quadratic')\n",
    "    plt.xlabel('x label')\n",
    "    plt.ylabel('y label')\n",
    "    plt.title(\"Plot\")\n",
    "    plt.legend()\n",
    "    plt.show()\n",
    "\n",
    "trajectory([1,1],10, 0.1, 0.01)"
   ]
  },
  {
   "cell_type": "code",
   "execution_count": null,
   "metadata": {},
   "outputs": [],
   "source": []
  }
 ],
 "metadata": {
  "kernelspec": {
   "display_name": "Python 3",
   "language": "python",
   "name": "python3"
  },
  "language_info": {
   "codemirror_mode": {
    "name": "ipython",
    "version": 3
   },
   "file_extension": ".py",
   "mimetype": "text/x-python",
   "name": "python",
   "nbconvert_exporter": "python",
   "pygments_lexer": "ipython3",
   "version": "3.6.5"
  }
 },
 "nbformat": 4,
 "nbformat_minor": 2
}
